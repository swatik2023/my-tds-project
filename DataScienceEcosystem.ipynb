{
 "cells": [
  {
   "cell_type": "markdown",
   "id": "e9355887-fb68-49e0-8b13-0e2385d734a3",
   "metadata": {
    "tags": []
   },
   "source": [
    "# Data Science Tools and Ecosystem"
   ]
  },
  {
   "cell_type": "markdown",
   "id": "c58408da-9d94-4544-9833-6b499505f098",
   "metadata": {},
   "source": [
    "In this Notebook , Data Science Tools and Ecosystem are summarized"
   ]
  },
  {
   "cell_type": "markdown",
   "id": "ec46574b-6237-4de1-bea8-36ee2a3250a4",
   "metadata": {},
   "source": [
    "**objectives:**\n",
    "   -  Python,R,Julia\n",
    "   -  Pandas, Pytorch\n",
    "   -  Apache CouchDB\n",
    "   -  Apache Airflow\n",
    "   -  write arithmetic expression"
   ]
  },
  {
   "cell_type": "markdown",
   "id": "162e4c13-d511-45e5-86fc-644beb325d64",
   "metadata": {},
   "source": [
    "## Author\n",
    "   Swatik Sai Swagat Kar"
   ]
  },
  {
   "cell_type": "markdown",
   "id": "85796965-0230-4f83-8bc5-7ee365edbab1",
   "metadata": {},
   "source": [
    "some of the languages that data scientists use:\n",
    "\n",
    " 1. Python\n",
    " 2. R\n",
    " 3. Julia\n",
    " 4. Scala"
   ]
  },
  {
   "cell_type": "markdown",
   "id": "19bc9318-b252-4fd1-be81-359421d1af16",
   "metadata": {},
   "source": [
    "some of the commonly used libraries used by data scientists include:\n",
    "\n",
    " 1. Pandas\n",
    " 2. Pytorch\n",
    " 3. TensorFlow\n",
    " 4. scikit learn"
   ]
  },
  {
   "cell_type": "markdown",
   "id": "68a88351-a299-402a-9be5-c65282745b3b",
   "metadata": {},
   "source": [
    "| Data Science Tools |\n",
    "|--------------------|\n",
    "|MySQL|\n",
    "|Apache CouchDB|\n",
    "|Apache Airflow|"
   ]
  },
  {
   "cell_type": "markdown",
   "id": "e0c23c3b-d97b-488f-9533-af576fbbfdb0",
   "metadata": {},
   "source": [
    "### Below are some few examples of evaluating arithmetic expression "
   ]
  },
  {
   "cell_type": "code",
   "execution_count": 2,
   "id": "d17c5cab-d263-4051-8612-09995ba2341b",
   "metadata": {},
   "outputs": [
    {
     "data": {
      "text/plain": [
       "17"
      ]
     },
     "execution_count": 2,
     "metadata": {},
     "output_type": "execute_result"
    }
   ],
   "source": [
    "# this is a simple arithmetic expression to multiply and then add integers.\n",
    "(3*4)+5"
   ]
  },
  {
   "cell_type": "code",
   "execution_count": 3,
   "id": "b2249a2c-8819-4e12-a8a9-62f1c5b2afa7",
   "metadata": {},
   "outputs": [
    {
     "data": {
      "text/plain": [
       "3.3333333333333335"
      ]
     },
     "execution_count": 3,
     "metadata": {},
     "output_type": "execute_result"
    }
   ],
   "source": [
    "# this will convert 200 minutes to hours by dividing by 60.\n",
    "\n",
    "200/60"
   ]
  },
  {
   "cell_type": "code",
   "execution_count": null,
   "id": "b05ea594-2eb0-40e5-a6a8-608c148cf3fa",
   "metadata": {},
   "outputs": [],
   "source": []
  }
 ],
 "metadata": {
  "kernelspec": {
   "display_name": "Python",
   "language": "python",
   "name": "conda-env-python-py"
  },
  "language_info": {
   "codemirror_mode": {
    "name": "ipython",
    "version": 3
   },
   "file_extension": ".py",
   "mimetype": "text/x-python",
   "name": "python",
   "nbconvert_exporter": "python",
   "pygments_lexer": "ipython3",
   "version": "3.7.12"
  }
 },
 "nbformat": 4,
 "nbformat_minor": 5
}
